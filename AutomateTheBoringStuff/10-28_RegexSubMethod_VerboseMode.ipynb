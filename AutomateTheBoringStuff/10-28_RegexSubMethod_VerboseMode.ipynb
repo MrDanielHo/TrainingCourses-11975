{
 "cells": [
  {
   "cell_type": "markdown",
   "metadata": {},
   "source": [
    "The `sub()` Method is searches for an expression and replaces it.\n",
    "\n",
    "It is equivalent to `CTRL + H` for most office suites."
   ]
  },
  {
   "cell_type": "code",
   "execution_count": 1,
   "metadata": {},
   "outputs": [],
   "source": [
    "import re"
   ]
  },
  {
   "cell_type": "code",
   "execution_count": 2,
   "metadata": {},
   "outputs": [],
   "source": [
    "namesRegex = re.compile(r'Agent \\w+')"
   ]
  },
  {
   "cell_type": "code",
   "execution_count": 3,
   "metadata": {},
   "outputs": [
    {
     "data": {
      "text/plain": [
       "['Agent Alice', 'Agent Bob']"
      ]
     },
     "execution_count": 3,
     "metadata": {},
     "output_type": "execute_result"
    }
   ],
   "source": [
    "namesRegex.findall('Agent Alice gave the secret documents to Agent Bob')"
   ]
  },
  {
   "cell_type": "code",
   "execution_count": 4,
   "metadata": {},
   "outputs": [
    {
     "data": {
      "text/plain": [
       "'REDACTED gave the secret documents to REDACTED'"
      ]
     },
     "execution_count": 4,
     "metadata": {},
     "output_type": "execute_result"
    }
   ],
   "source": [
    "namesRegex.sub('REDACTED', 'Agent Alice gave the secret documents to Agent Bob')"
   ]
  },
  {
   "cell_type": "markdown",
   "metadata": {},
   "source": [
    "From the above example, we are able to replace an agent's name with `REDACTED`.\n",
    "\n",
    "What if we wanted to keep the first letter of the agent's name?"
   ]
  },
  {
   "cell_type": "code",
   "execution_count": 5,
   "metadata": {},
   "outputs": [],
   "source": [
    "'''\n",
    "Group the first letter of the agent's name and the rest of the name can be included as 0 or more letters.\n",
    "'''\n",
    "namesRegex = re.compile(r'Agent (\\w)\\w*')"
   ]
  },
  {
   "cell_type": "code",
   "execution_count": 6,
   "metadata": {},
   "outputs": [
    {
     "data": {
      "text/plain": [
       "['A', 'B']"
      ]
     },
     "execution_count": 6,
     "metadata": {},
     "output_type": "execute_result"
    }
   ],
   "source": [
    "namesRegex.findall('Agent Alice gave the secret documents to Agent Bob')"
   ]
  },
  {
   "cell_type": "code",
   "execution_count": 7,
   "metadata": {},
   "outputs": [
    {
     "data": {
      "text/plain": [
       "'Agent A**** gave the secret documents to Agent B****'"
      ]
     },
     "execution_count": 7,
     "metadata": {},
     "output_type": "execute_result"
    }
   ],
   "source": [
    "namesRegex.sub(r'Agent \\1****', 'Agent Alice gave the secret documents to Agent Bob')"
   ]
  },
  {
   "cell_type": "markdown",
   "metadata": {},
   "source": [
    "The `verbose` methods allows the use of new lines and other white spaces to separate logical sections of the pattern."
   ]
  },
  {
   "cell_type": "code",
   "execution_count": null,
   "metadata": {},
   "outputs": [],
   "source": [
    "re.compile(r'''\n",
    "(\\d\\d\\d-)|      # area code, without parenthesis with dash\n",
    "(\\d(\\d\\d\\d\\) )  # -or- area code with patenthesis and no dash\n",
    "\\d\\d\\d          # first 3 digits\n",
    "-               # second dash\n",
    "\\d\\d\\d\\d        # last 4 digits\n",
    "\\sx\\d{2,4}      # extenstion, e.g. x1234\n",
    "''', re.VERBOSE)"
   ]
  },
  {
   "cell_type": "markdown",
   "metadata": {},
   "source": [
    "We can include multiple options of the regular expression with the pipe operator:"
   ]
  },
  {
   "cell_type": "code",
   "execution_count": null,
   "metadata": {},
   "outputs": [],
   "source": [
    "re.compile(r'''\n",
    "(\\d\\d\\d-)|      # area code, without parenthesis with dash\n",
    "(\\d(\\d\\d\\d\\) )  # -or- area code with patenthesis and no dash\n",
    "\\d\\d\\d          # first 3 digits\n",
    "-               # second dash\n",
    "\\d\\d\\d\\d        # last 4 digits\n",
    "\\sx\\d{2,4}      # extenstion, e.g. x1234\n",
    "''', re.IGNORECASE | re.DOTALL | re.VERBOSE)"
   ]
  }
 ],
 "metadata": {
  "interpreter": {
   "hash": "916dbcbb3f70747c44a77c7bcd40155683ae19c65e1c03b4aa3499c5328201f1"
  },
  "kernelspec": {
   "display_name": "Python 3.9.2 64-bit",
   "language": "python",
   "name": "python3"
  },
  "language_info": {
   "codemirror_mode": {
    "name": "ipython",
    "version": 3
   },
   "file_extension": ".py",
   "mimetype": "text/x-python",
   "name": "python",
   "nbconvert_exporter": "python",
   "pygments_lexer": "ipython3",
   "version": "3.9.2"
  },
  "orig_nbformat": 4
 },
 "nbformat": 4,
 "nbformat_minor": 2
}
