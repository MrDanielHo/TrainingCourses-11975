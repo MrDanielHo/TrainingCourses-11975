{
 "cells": [
  {
   "cell_type": "markdown",
   "metadata": {},
   "source": [
    "The caret symbol (^) indicates that the search must begin with this regular expression pattern.\n",
    "\n",
    "The dollar symbol ($) indicates that the search must end with this regular expression pattern."
   ]
  },
  {
   "cell_type": "code",
   "execution_count": 2,
   "metadata": {},
   "outputs": [],
   "source": [
    "import re"
   ]
  },
  {
   "cell_type": "code",
   "execution_count": 3,
   "metadata": {},
   "outputs": [
    {
     "data": {
      "text/plain": [
       "<re.Match object; span=(0, 5), match='Hello'>"
      ]
     },
     "execution_count": 3,
     "metadata": {},
     "output_type": "execute_result"
    }
   ],
   "source": [
    "'''\n",
    "With the below pattern, we are looking for the world 'Hello' at the beginning of the string only:\n",
    "'''\n",
    "beginsWithHelloRegex = re.compile(r'^Hello')\n",
    "beginsWithHelloRegex.search('Hello there!')"
   ]
  },
  {
   "cell_type": "code",
   "execution_count": 4,
   "metadata": {},
   "outputs": [
    {
     "data": {
      "text/plain": [
       "True"
      ]
     },
     "execution_count": 4,
     "metadata": {},
     "output_type": "execute_result"
    }
   ],
   "source": [
    "'''\n",
    "The below regex.search returns nothing as the pattern 'Hello' is not at the start of the string.\n",
    "'''\n",
    "beginsWithHelloRegex.search('He said \"Hello there!\"') == None"
   ]
  },
  {
   "cell_type": "code",
   "execution_count": 5,
   "metadata": {},
   "outputs": [
    {
     "data": {
      "text/plain": [
       "<re.Match object; span=(6, 12), match='world!'>"
      ]
     },
     "execution_count": 5,
     "metadata": {},
     "output_type": "execute_result"
    }
   ],
   "source": [
    "'''\n",
    "And with the dollar sign:\n",
    "'''\n",
    "endsWithWorldRegex = re.compile(r'world!$')\n",
    "endsWithWorldRegex.search('Hello world!')"
   ]
  },
  {
   "cell_type": "code",
   "execution_count": 6,
   "metadata": {},
   "outputs": [
    {
     "data": {
      "text/plain": [
       "True"
      ]
     },
     "execution_count": 6,
     "metadata": {},
     "output_type": "execute_result"
    }
   ],
   "source": [
    "endsWithWorldRegex.search('Hello world! How are you?') == None"
   ]
  },
  {
   "cell_type": "code",
   "execution_count": 7,
   "metadata": {},
   "outputs": [
    {
     "data": {
      "text/plain": [
       "<re.Match object; span=(0, 24), match='879564361987456194798987'>"
      ]
     },
     "execution_count": 7,
     "metadata": {},
     "output_type": "execute_result"
    }
   ],
   "source": [
    "'''\n",
    "Using both caret and dollar sign, we can use the below pattern to determine whether a string contains digits only or not:\n",
    "'''\n",
    "allDigitsRegex = re.compile(r'^\\d+$')\n",
    "allDigitsRegex.search('879564361987456194798987')"
   ]
  },
  {
   "cell_type": "code",
   "execution_count": 8,
   "metadata": {},
   "outputs": [
    {
     "data": {
      "text/plain": [
       "True"
      ]
     },
     "execution_count": 8,
     "metadata": {},
     "output_type": "execute_result"
    }
   ],
   "source": [
    "'''\n",
    "As the matching pattern must start and end with digits, and must also contain that pattern of digits only.\n",
    "The below does not fit this as there is a non-digit character in the middle.\n",
    "'''\n",
    "allDigitsRegex.search('879564361987x456194798987') == None"
   ]
  },
  {
   "cell_type": "code",
   "execution_count": 9,
   "metadata": {},
   "outputs": [
    {
     "data": {
      "text/plain": [
       "['cat', 'hat', 'sat', 'lat', 'mat']"
      ]
     },
     "execution_count": 9,
     "metadata": {},
     "output_type": "execute_result"
    }
   ],
   "source": [
    "'''\n",
    "The period character (.) is a wildcard for any character that is not a new line.\n",
    "'''\n",
    "atRegex = re.compile(r'.at')\n",
    "atRegex.findall('The cat in the hat sat on the flat mat')"
   ]
  },
  {
   "cell_type": "code",
   "execution_count": 10,
   "metadata": {},
   "outputs": [
    {
     "data": {
      "text/plain": [
       "'\\nThe above is now adding the white space preceeding at.\\n'"
      ]
     },
     "execution_count": 10,
     "metadata": {},
     "output_type": "execute_result"
    }
   ],
   "source": [
    "'''\n",
    "The above output shows everything ending in at.\n",
    "However when it finds flat, the output is lat.\n",
    "This is due to the pattern only looking for one character preceeding the at.\n",
    "\n",
    "We can adjust this as follows:\n",
    "'''\n",
    "atRegex = re.compile(r'.{1,2}at')\n",
    "atRegex.findall('The cat in the hat sat on the flat mat')\n",
    "\n",
    "'''\n",
    "The above is now adding the white space preceeding at.\n",
    "'''"
   ]
  },
  {
   "cell_type": "code",
   "execution_count": 11,
   "metadata": {},
   "outputs": [
    {
     "data": {
      "text/plain": [
       "'Al Last Name: Sweigart'"
      ]
     },
     "execution_count": 11,
     "metadata": {},
     "output_type": "execute_result"
    }
   ],
   "source": [
    "'''\n",
    "The dot-star (.*) is any character that occurs zero or more times.\n",
    "\n",
    "We will try to extract the first name and last name from the string:\n",
    "    'First Name: Al Last Name: Sweigart'\n",
    "'''\n",
    "'First Name: Al Last Name: Sweigart'.find(':')\n",
    "\n",
    "'First Name: Al Last Name: Sweigart'.find(':') + 2\n",
    "\n",
    "'First Name: Al Last Name: Sweigart'[12:]"
   ]
  },
  {
   "cell_type": "code",
   "execution_count": 12,
   "metadata": {},
   "outputs": [
    {
     "data": {
      "text/plain": [
       "'\\nThe above code searches for the pattern \"First Name: \" and returns the first group, then searches for \" Last Name: \" and returns that for the second group'"
      ]
     },
     "execution_count": 12,
     "metadata": {},
     "output_type": "execute_result"
    }
   ],
   "source": [
    "nameRegex = re.compile(r'First Name: (.*) Last Name: (.*)')\n",
    "nameRegex.findall('First Name: Al Last Name: Sweigart')\n",
    "\n",
    "'''\n",
    "The above code searches for the pattern \"First Name: \" and returns the first group, then searches for \" Last Name: \" and returns that for the second group'''"
   ]
  },
  {
   "cell_type": "code",
   "execution_count": 14,
   "metadata": {},
   "outputs": [
    {
     "data": {
      "text/plain": [
       "['To serve humans']"
      ]
     },
     "execution_count": 14,
     "metadata": {},
     "output_type": "execute_result"
    }
   ],
   "source": [
    "'''\n",
    "(.*) is greedy - will match with the maximum number of characters possible.\n",
    "(.*?) is non-greedy - will match with the minimum number of characters as possible.\n",
    "'''\n",
    "serve = '<To serve humans> for dinner.>'\n",
    "nongreedy = re.compile(r'<(.*?)>')\n",
    "nongreedy.findall(serve)"
   ]
  },
  {
   "cell_type": "code",
   "execution_count": 15,
   "metadata": {},
   "outputs": [
    {
     "data": {
      "text/plain": [
       "['To serve humans> for dinner.']"
      ]
     },
     "execution_count": 15,
     "metadata": {},
     "output_type": "execute_result"
    }
   ],
   "source": [
    "greedy = re.compile(r'<(.*)>')\n",
    "greedy.findall(serve)"
   ]
  },
  {
   "cell_type": "code",
   "execution_count": 20,
   "metadata": {},
   "outputs": [
    {
     "data": {
      "text/plain": [
       "<re.Match object; span=(0, 23), match='Serve the public trust.'>"
      ]
     },
     "execution_count": 20,
     "metadata": {},
     "output_type": "execute_result"
    }
   ],
   "source": [
    "prime = '''Serve the public trust.\n",
    "Protect the innocent.\n",
    "Uphold the law.\n",
    "'''\n",
    "dotStar = re.compile(r'.*')\n",
    "dotStar.search(prime)"
   ]
  },
  {
   "cell_type": "code",
   "execution_count": 21,
   "metadata": {},
   "outputs": [
    {
     "data": {
      "text/plain": [
       "<re.Match object; span=(0, 62), match='Serve the public trust.\\nProtect the innocent.\\nU>"
      ]
     },
     "execution_count": 21,
     "metadata": {},
     "output_type": "execute_result"
    }
   ],
   "source": [
    "dotStar = re.compile(r'.*', re.DOTALL)\n",
    "dotStar.search(prime)"
   ]
  },
  {
   "cell_type": "code",
   "execution_count": 25,
   "metadata": {},
   "outputs": [
    {
     "data": {
      "text/plain": [
       "['o',\n",
       " 'e',\n",
       " 'o',\n",
       " 'u',\n",
       " 'o',\n",
       " 'a',\n",
       " 'i',\n",
       " 'o',\n",
       " 'o',\n",
       " 'a',\n",
       " 'a',\n",
       " 'o',\n",
       " 'u',\n",
       " 'o',\n",
       " 'o',\n",
       " 'o',\n",
       " 'o',\n",
       " 'u']"
      ]
     },
     "execution_count": 25,
     "metadata": {},
     "output_type": "execute_result"
    }
   ],
   "source": [
    "'''\n",
    "The below only matches vowels of lower case.\n",
    "'''\n",
    "vowelRegex = re.compile(r'[aeiou]')\n",
    "vowelRegex.findall('Al, why does your programming book talk about RoboCop so much?')"
   ]
  },
  {
   "cell_type": "code",
   "execution_count": 26,
   "metadata": {},
   "outputs": [
    {
     "data": {
      "text/plain": [
       "['A',\n",
       " 'o',\n",
       " 'e',\n",
       " 'o',\n",
       " 'u',\n",
       " 'o',\n",
       " 'a',\n",
       " 'i',\n",
       " 'o',\n",
       " 'o',\n",
       " 'a',\n",
       " 'a',\n",
       " 'o',\n",
       " 'u',\n",
       " 'o',\n",
       " 'o',\n",
       " 'o',\n",
       " 'o',\n",
       " 'u']"
      ]
     },
     "execution_count": 26,
     "metadata": {},
     "output_type": "execute_result"
    }
   ],
   "source": [
    "'''\n",
    "We can use re.IGNORECASE or re.I to match the patter regardless of case.\n",
    "'''\n",
    "vowelRegex = re.compile(r'[aeiou]',re.IGNORECASE)\n",
    "vowelRegex.findall('Al, why does your programming book talk about RoboCop so much?')"
   ]
  }
 ],
 "metadata": {
  "interpreter": {
   "hash": "855ae122d4fcda6f141f92c8875720321028ea409d34d35b900b724463e5c1c0"
  },
  "kernelspec": {
   "display_name": "Python 3.10.0 64-bit",
   "language": "python",
   "name": "python3"
  },
  "language_info": {
   "codemirror_mode": {
    "name": "ipython",
    "version": 3
   },
   "file_extension": ".py",
   "mimetype": "text/x-python",
   "name": "python",
   "nbconvert_exporter": "python",
   "pygments_lexer": "ipython3",
   "version": "3.10.0"
  },
  "orig_nbformat": 4
 },
 "nbformat": 4,
 "nbformat_minor": 2
}
