{
 "cells": [
  {
   "cell_type": "markdown",
   "metadata": {},
   "source": [
    "# Regex Character Classes and the _findall()_ Method"
   ]
  },
  {
   "cell_type": "code",
   "execution_count": 3,
   "metadata": {},
   "outputs": [],
   "source": [
    "import re"
   ]
  },
  {
   "cell_type": "code",
   "execution_count": 4,
   "metadata": {},
   "outputs": [
    {
     "data": {
      "text/plain": [
       "re.compile(r'\\d\\d\\d-\\d\\d\\d-\\d\\d\\d\\d', re.UNICODE)"
      ]
     },
     "execution_count": 4,
     "metadata": {},
     "output_type": "execute_result"
    }
   ],
   "source": [
    "phoneRegex = re.compile(r'\\d\\d\\d-\\d\\d\\d-\\d\\d\\d\\d')\n",
    "phoneRegex"
   ]
  },
  {
   "cell_type": "markdown",
   "metadata": {},
   "source": [
    "## The _findall()_ Method\n",
    "\n",
    "We used the _regex.search()_ function to find the first match of a regular expression.\n",
    "\n",
    "With the _regex.findall()_ function we can search a string for all instances of a regular expression.\n",
    "\n",
    "With _phoneRegex_ we are trying to find all instances of a Northern American phone number in the format: _123-456-7890_"
   ]
  },
  {
   "cell_type": "code",
   "execution_count": 5,
   "metadata": {},
   "outputs": [],
   "source": [
    "resume = '''\n",
    "Jesse Kendall\n",
    "123 Elm Street, Iowa City, IA 52241\n",
    "H: 319-555-5555, C: 319-444-4444, jkendall@notmail.com\n",
    "DENTAL HYGIENIST\n",
    "Dedicated and dynamic Dental Hygienist with extensive experience providing expert dental treatment.\n",
    "Exceptional patient skills focused on oral hygiene treatment and care as well as preventative management.\n",
    "Empathetic professional capable of reassuring and alleviating patient fears. Enthusiastic about dental\n",
    "health; enjoy educating patients on dental care and hygiene.\n",
    "AREAS OF EXPERTISE\n",
    "• Preventative Care\n",
    "• Protective Sealants\n",
    "• Disease Exam/Screening\n",
    "• Dental Charting\n",
    "• Oral Cavity Exam\n",
    "• Self-Care Programs\n",
    "• Stain Removal\n",
    "• Patient Management\n",
    "• Nutrition Counseling\n",
    "EDUCATION\n",
    "XYZ COMMUNITY COLLEGE, Iowa City, Iowa\n",
    "Associate of Science, Registered Dental Hygienist, Certified Dental Assistant\n",
    "PROFESSIONAL EXPERIENCE\n",
    "SMILE IOWA, Iowa City, Iowa, 20xx-Present\n",
    "Dental Hygienist, Family and Cosmetic Dentistry\n",
    "Provide exceptional oral hygiene care to a variety of patients. Conduct nutritional and personal hygiene\n",
    "counseling as well as educate patients on preventative care to ensure health and wellness. Call patients to\n",
    "schedule recall appointments.\n",
    "• Care for each patient with personal attention while performing prophylaxis/dental cleanings and\n",
    "routine oral exams.\n",
    "• Instructed patients on the best methods for practicing oral hygiene.\n",
    "• Devised and implemented customized personal treatment plans.\n",
    "• Delivered fluoride applications.\n",
    "• Examined patients and took intra-oral X-rays.\n",
    "JOHN DOWE, DMD, Iowa City, Iowa, 20xx-20xx\n",
    "Dental Hygienist, Family and Cosmetic Dentistry\n",
    "Delivered expert oral hygiene care to each patient. Provided patients with preventative care techniques to\n",
    "ensure optimal dental health and personal well-being.\n",
    "• Cared for a minimum of eight patients per day.\n",
    "• Treated some of the same patients for 25 years, and retained the same patients after the dentist\n",
    "retired.\n",
    "• Worked collaboratively with patients to develop personalized treatment plans.\n",
    "• Partnered with the dentist and patients in implementing their dental treatments and continued\n",
    "dental care.\n",
    "JOHN SMITH, DMD, Iowa City, Iowa, 20xx-20xx\n",
    "Dental Assistant\n",
    "Provided diligent dental and hygiene assistance during surgery, services, and cleanings. Maintained\n",
    "equipment and sterilized dental instruments. Answered phone calls, scheduled appointments, and charted\n",
    "dental records. Trained new employees on back office duties.\n",
    "'''"
   ]
  },
  {
   "cell_type": "code",
   "execution_count": 6,
   "metadata": {},
   "outputs": [
    {
     "data": {
      "text/plain": [
       "<re.Match object; span=(54, 66), match='319-555-5555'>"
      ]
     },
     "execution_count": 6,
     "metadata": {},
     "output_type": "execute_result"
    }
   ],
   "source": [
    "phoneRegex.search(resume)"
   ]
  },
  {
   "cell_type": "code",
   "execution_count": 7,
   "metadata": {},
   "outputs": [
    {
     "data": {
      "text/plain": [
       "['319-555-5555', '319-444-4444']"
      ]
     },
     "execution_count": 7,
     "metadata": {},
     "output_type": "execute_result"
    }
   ],
   "source": [
    "phoneRegex.findall(resume)"
   ]
  },
  {
   "cell_type": "markdown",
   "metadata": {},
   "source": [
    "When regex objections have one or less groups (parenthesis), then the findall() method will return any matching strings in a list, as per the above example.\n",
    "\n",
    "We can show what the return on regular expressions when there are two groups, by grouping the set of the first three digits and the latter seven digits:"
   ]
  },
  {
   "cell_type": "code",
   "execution_count": 8,
   "metadata": {},
   "outputs": [
    {
     "data": {
      "text/plain": [
       "[('319', '555-5555'), ('319', '444-4444')]"
      ]
     },
     "execution_count": 8,
     "metadata": {},
     "output_type": "execute_result"
    }
   ],
   "source": [
    "phoneRegex = re.compile(r'(\\d\\d\\d)-(\\d\\d\\d-\\d\\d\\d\\d)')\n",
    "phoneRegex.findall(resume)"
   ]
  },
  {
   "cell_type": "markdown",
   "metadata": {},
   "source": [
    "As we have two groups for this regular expression, the _findall()_ returns a list of tuples of strings.\n",
    "\n",
    "We also are missing the seperator between the two groups because there is no string that contains this.\n",
    "\n",
    "To return a string that does contain this seperator, we can put brackets around the whole expression and it it will now return three strings in the tuple:"
   ]
  },
  {
   "cell_type": "code",
   "execution_count": 9,
   "metadata": {},
   "outputs": [
    {
     "data": {
      "text/plain": [
       "[('319-555-5555', '319', '555-5555'), ('319-444-4444', '319', '444-4444')]"
      ]
     },
     "execution_count": 9,
     "metadata": {},
     "output_type": "execute_result"
    }
   ],
   "source": [
    "phoneRegex = re.compile(r'((\\d\\d\\d)-(\\d\\d\\d-\\d\\d\\d\\d))')\n",
    "phoneRegex.findall(resume)"
   ]
  },
  {
   "cell_type": "markdown",
   "metadata": {},
   "source": [
    "## Character Classes\n",
    "\n",
    "The character classes include:\n",
    "\n",
    "| Shorthand character class | Represents|\n",
    "| :-: | :- |\n",
    "| \\d | Any numeric **d** igit from 0 to 9 |\n",
    "| \\D | Any character that is _not_ a numberic digit from 0 to 9 |\n",
    "| \\w | Any letter, numeric digit, or the underscore character. <br>(Think of this a matching \"**w** ord\" characters.) |\n",
    "| \\W | Any character that is not a letter, numeric digit, or the underscore character |\n",
    "| \\s | Any white space character: space, tab, or newline.<br>(Think of this as matching \"**s** pace\" characters.)\n",
    "| \\S | Any character that is _not_ a space, tab, or newline.\n"
   ]
  },
  {
   "cell_type": "code",
   "execution_count": 11,
   "metadata": {},
   "outputs": [
    {
     "data": {
      "text/plain": [
       "['12 drummers drumming',\n",
       " '11 pipers piping',\n",
       " '10 lords a',\n",
       " '9 ladies dancing',\n",
       " '8 maids a',\n",
       " '7 swans a',\n",
       " '6 geese a',\n",
       " '5 golden rings',\n",
       " '4 calling birds',\n",
       " '3 French hens',\n",
       " '1 partridge in']"
      ]
     },
     "execution_count": 11,
     "metadata": {},
     "output_type": "execute_result"
    }
   ],
   "source": [
    "'''\n",
    "12 Days of Christmas\n",
    "'''\n",
    "\n",
    "lyrics = '''\n",
    "12 drummers drumming\n",
    "11 pipers piping\n",
    "10 lords a-leaping\n",
    "9 ladies dancing\n",
    "8 maids a-milking\n",
    "7 swans a-swimming\n",
    "6 geese a-laying\n",
    "5 golden rings (five golden rings)\n",
    "4 calling birds\n",
    "3 French hens\n",
    "2 turtle-doves\n",
    "And 1 partridge in a pear tree\n",
    "And a partridge in a pear tree\n",
    "'''\n",
    "xmasRegex = re.compile(r'\\d+\\s\\w+')\n",
    "xmasRegex.findall(lyrics)"
   ]
  },
  {
   "cell_type": "code",
   "execution_count": 18,
   "metadata": {},
   "outputs": [
    {
     "data": {
      "text/plain": [
       "['o', 'o', 'o', 'e', 'a', 'a', 'o', 'o']"
      ]
     },
     "execution_count": 18,
     "metadata": {},
     "output_type": "execute_result"
    }
   ],
   "source": [
    "'''\n",
    "We can use square brackets to create a custom character class.\n",
    "Below, we can use either regular expression:\n",
    "'''\n",
    "vowelRegex = re.compile(r'(a|e|i|o|u)')\n",
    "vowelRegex = re.compile(r'[aeiou]')\n",
    "\n",
    "'''\n",
    "We can use a dash to do a range i.e. [a-z] [a-dA-D] [0-6] etc.\n",
    "'''\n",
    "vowelRegex = re.compile(r'[aeiouAEIOU]')\n",
    "vowelRegex.findall('Robocop eats baby food.')"
   ]
  },
  {
   "cell_type": "code",
   "execution_count": 19,
   "metadata": {},
   "outputs": [
    {
     "data": {
      "text/plain": [
       "['ea', 'oo']"
      ]
     },
     "execution_count": 19,
     "metadata": {},
     "output_type": "execute_result"
    }
   ],
   "source": [
    "'''\n",
    "We can use curly brackets to give us an exact amount of occurances:\n",
    "'''\n",
    "DoubleVowelRegex = re.compile(r'[aeiouAEIOU]{2}')\n",
    "DoubleVowelRegex.findall('Robocop eats baby food.')"
   ]
  },
  {
   "cell_type": "code",
   "execution_count": 20,
   "metadata": {},
   "outputs": [
    {
     "data": {
      "text/plain": [
       "['R', 'b', 'c', 'p', ' ', 't', 's', ' ', 'b', 'b', 'y', ' ', 'f', 'd', '.']"
      ]
     },
     "execution_count": 20,
     "metadata": {},
     "output_type": "execute_result"
    }
   ],
   "source": [
    "'''\n",
    "We can use the caret (^) character to give us all characters that are not in the class:\n",
    "'''\n",
    "notVowelRegex = re.compile(r'[^aeiouAEIOU]')\n",
    "notVowelRegex.findall('Robocop eats baby food.')"
   ]
  }
 ],
 "metadata": {
  "interpreter": {
   "hash": "855ae122d4fcda6f141f92c8875720321028ea409d34d35b900b724463e5c1c0"
  },
  "kernelspec": {
   "display_name": "Python 3.10.0 64-bit",
   "language": "python",
   "name": "python3"
  },
  "language_info": {
   "codemirror_mode": {
    "name": "ipython",
    "version": 3
   },
   "file_extension": ".py",
   "mimetype": "text/x-python",
   "name": "python",
   "nbconvert_exporter": "python",
   "pygments_lexer": "ipython3",
   "version": "3.10.0"
  },
  "orig_nbformat": 4
 },
 "nbformat": 4,
 "nbformat_minor": 2
}
